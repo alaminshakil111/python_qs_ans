{
 "cells": [
  {
   "cell_type": "code",
   "execution_count": 1,
   "id": "67bec588",
   "metadata": {},
   "outputs": [
    {
     "name": "stdout",
     "output_type": "stream",
     "text": [
      "test*spyder*shakil*10*20\n",
      "newLine Spyder\n",
      "newLine Spyder\n"
     ]
    }
   ],
   "source": [
    "#print------------\n",
    "\n",
    "print(\"test\",\"spyder\",\"shakil\",10,20, sep=\"*\") #value, default space\n",
    "\n",
    "print(\"newLine\", \"Spyder\", end=\"\\n\") #newline\n",
    "print(\"newLine\", \"Spyder\") #newline"
   ]
  },
  {
   "cell_type": "code",
   "execution_count": 5,
   "id": "b814c37d",
   "metadata": {},
   "outputs": [
    {
     "name": "stdout",
     "output_type": "stream",
     "text": [
      "Hei! I Love You\n",
      "I Love You\n",
      "You Love Me\n",
      "I love You\n",
      "I Love You\n",
      "I Love You\n",
      "I Love Yvdvvou\n"
     ]
    }
   ],
   "source": [
    "#Arguments ----------\n",
    "\n",
    "a = \"I\"\n",
    "b = \"Love\"\n",
    "c = \"You\"\n",
    "print(\"Hei!\", a,b,c)\n",
    "\n",
    "a = \"I\"\n",
    "b = \"You\"\n",
    "c = \"Me\"\n",
    "print(\"{} Love {}\" .format(a, b))\n",
    "print(\"{} Love {}\" .format(b, c))\n",
    "\n",
    "a = \"I\"\n",
    "b = \"You\"\n",
    "c = \"Me\"\n",
    "print(\"{0} love {1}\" .format(a,b))\n",
    "\n",
    "a = \"I\"\n",
    "b = \"You\"\n",
    "c = \"Me\"\n",
    "print(\"{name1} Love {name2}\" .format(name1 = a, name2 = b))\n",
    "\n",
    "a = \"I\"\n",
    "b = \"You\"\n",
    "c = \"Me\"\n",
    "print(\"%s Love %s\"%(a,b))\n",
    "\n",
    "a = \"I\"\n",
    "b = \"You\"\n",
    "c = \"Me\"\n",
    "print (\"%(hey)s Love %(hoi)s\"%{\"hey\" : a, \"hoi\" : b})"
   ]
  },
  {
   "cell_type": "code",
   "execution_count": 3,
   "id": "142d6bab",
   "metadata": {},
   "outputs": [
    {
     "name": "stdout",
     "output_type": "stream",
     "text": [
      "7\n"
     ]
    }
   ],
   "source": [
    "#Varivbale Topic Start -------------\n",
    "\n",
    "a = 7\n",
    "print(a)"
   ]
  },
  {
   "cell_type": "code",
   "execution_count": 38,
   "id": "5446cf91",
   "metadata": {},
   "outputs": [
    {
     "name": "stdout",
     "output_type": "stream",
     "text": [
      "Enter your name: dsd\n",
      "Enter your age: 3\n",
      "Name: dsd \n",
      "Age: 3\n",
      "Enter some Number: 1 2 3 4 5 6 \n",
      "1 2 3 4 5 6\n"
     ]
    }
   ],
   "source": [
    "#Input --------------\n",
    "\n",
    "a = input(\"Enter your name: \")\n",
    "b = input(\"Enter your age: \")\n",
    "b = int(b) #Typcasting\n",
    "print(\"Name: {} \\nAge: {}\".format(a,b))\n",
    "\n",
    "a,b,c,d,e,f = input(\"Enter some Number: \").split()\n",
    "print(\"{} {} {} {} {} {}\".format(a,b,c,d,e,f))\n"
   ]
  },
  {
   "cell_type": "code",
   "execution_count": 22,
   "id": "911ce28f",
   "metadata": {},
   "outputs": [
    {
     "name": "stdout",
     "output_type": "stream",
     "text": [
      "['False', 'None', 'True', '__peg_parser__', 'and', 'as', 'assert', 'async', 'await', 'break', 'class', 'continue', 'def', 'del', 'elif', 'else', 'except', 'finally', 'for', 'from', 'global', 'if', 'import', 'in', 'is', 'lambda', 'nonlocal', 'not', 'or', 'pass', 'raise', 'return', 'try', 'while', 'with', 'yield']\n"
     ]
    }
   ],
   "source": [
    "#KeyWord ---------\n",
    "\n",
    "import keyword\n",
    "print (keyword.kwlist)\n",
    "#print (keyword.iskeyword(\"pass\"))\n",
    "#print (keyword.iskeyword(\"shakilPython\"))\n",
    "\n",
    "Pass = \"shakilPython\""
   ]
  },
  {
   "cell_type": "code",
   "execution_count": 2,
   "id": "73f63a95",
   "metadata": {},
   "outputs": [
    {
     "name": "stdout",
     "output_type": "stream",
     "text": [
      "12\n",
      "8\n",
      "20\n",
      "5.0\n",
      "5\n",
      "0\n",
      "100\n",
      "False\n",
      "True\n",
      "False\n",
      "True\n",
      "False\n",
      "True\n"
     ]
    }
   ],
   "source": [
    "#Operator -------------------------------------------------------------------\n",
    "#Arethmatic Operator -----\n",
    "\n",
    "a = 10\n",
    "b = 2\n",
    "print(a + b)\n",
    "print(a - b)\n",
    "print(a * b)\n",
    "print(a / b)\n",
    "print(a // b)\n",
    "print(a % b)\n",
    "print(a ** b)"
   ]
  },
  {
   "cell_type": "code",
   "execution_count": 3,
   "id": "0f32b1be",
   "metadata": {},
   "outputs": [
    {
     "name": "stdout",
     "output_type": "stream",
     "text": [
      "False\n",
      "True\n",
      "False\n",
      "True\n",
      "False\n",
      "True\n"
     ]
    }
   ],
   "source": [
    "#Operator --------------\n",
    "#comparism Operator -----------------\n",
    "\n",
    "a = 10\n",
    "b = 12\n",
    "print(a == b)\n",
    "print(a != b)\n",
    "print(a > b)\n",
    "print(a < b)\n",
    "print(a >= b)\n",
    "print(a <= b)"
   ]
  },
  {
   "cell_type": "code",
   "execution_count": 4,
   "id": "249b1a58",
   "metadata": {},
   "outputs": [
    {
     "name": "stdout",
     "output_type": "stream",
     "text": [
      "True\n",
      "True\n",
      "False\n"
     ]
    }
   ],
   "source": [
    "#Operator --------------\n",
    "#Logical Operator -----------------\n",
    "\n",
    "a = 10\n",
    "b = 5\n",
    "print(a == 10 and b == 5)\n",
    "print(a == 10 or b == 6)\n",
    "print(not b == 5)"
   ]
  },
  {
   "cell_type": "code",
   "execution_count": 36,
   "id": "25b8d7bf",
   "metadata": {},
   "outputs": [
    {
     "name": "stdout",
     "output_type": "stream",
     "text": [
      "True\n",
      "False\n",
      "True\n"
     ]
    }
   ],
   "source": [
    "#Operator --------------\n",
    "#Membership Operator -----------------\n",
    "\n",
    "a = \"pythonCoding\"\n",
    "print(\"python\" in a)\n",
    "print(\"pythonTest\" in a)\n",
    "print(\"pythonTest\" not in a)"
   ]
  },
  {
   "cell_type": "code",
   "execution_count": 9,
   "id": "e7303a6d",
   "metadata": {},
   "outputs": [
    {
     "name": "stdout",
     "output_type": "stream",
     "text": [
      "True\n",
      "False\n"
     ]
    }
   ],
   "source": [
    "#Operator --------------\n",
    "#Identity Operator -----------------\n",
    "\n",
    "a = 5\n",
    "b = 5\n",
    "print(a is b)\n",
    "print(a is not b)"
   ]
  },
  {
   "cell_type": "code",
   "execution_count": 4,
   "id": "4e58e34e",
   "metadata": {},
   "outputs": [
    {
     "name": "stdout",
     "output_type": "stream",
     "text": [
      "8\n",
      "14\n",
      "-11\n",
      "6\n",
      "3\n",
      "48\n"
     ]
    }
   ],
   "source": [
    "#Operator --------------\n",
    "#Bitwise Operator (6)-----------------\n",
    "\n",
    "a = 10\n",
    "b = 12\n",
    "print(a & b)\n",
    "\n",
    "a = 10\n",
    "b = 12\n",
    "print(a | b)\n",
    "\n",
    "a = 10\n",
    "print(~a)\n",
    "\n",
    "a = 10\n",
    "b = 12\n",
    "print(a ^ b)\n",
    "\n",
    "a = 12\n",
    "print(a >> 2)\n",
    "print(a << 2)\n"
   ]
  },
  {
   "cell_type": "code",
   "execution_count": 19,
   "id": "df6303a8",
   "metadata": {},
   "outputs": [
    {
     "name": "stdout",
     "output_type": "stream",
     "text": [
      "20\n",
      "0\n",
      "100\n",
      "1.0\n",
      "1\n",
      "0\n",
      "10000000000\n",
      "12 13\n",
      "31 13\n",
      "19 13\n",
      "0 13\n",
      "245760 13\n"
     ]
    }
   ],
   "source": [
    "#Operator --------------\n",
    "#Assignment Operator  (8)----------------- \n",
    "\n",
    "a = 10\n",
    "# a = a + 10\n",
    "a += 10\n",
    "print(a)\n",
    "\n",
    "a = 10\n",
    "a -= 10\n",
    "print(a)\n",
    "\n",
    "a = 10\n",
    "a *= 10\n",
    "print(a)\n",
    "\n",
    "a = 10\n",
    "a /= 10\n",
    "print(a)\n",
    "\n",
    "a = 10\n",
    "a //= 10\n",
    "print(a)\n",
    "\n",
    "a = 10\n",
    "a %= 10\n",
    "print(a)\n",
    "\n",
    "a = 10\n",
    "a **= 10\n",
    "print(a)\n",
    "\n",
    "a = 30\n",
    "b = 13\n",
    "a &= b\n",
    "print(a,b)\n",
    "\n",
    "a = 30\n",
    "b = 13\n",
    "a |= b\n",
    "print(a,b)\n",
    "\n",
    "a = 30\n",
    "b = 13\n",
    "a ^= b\n",
    "print(a,b)\n",
    "\n",
    "a = 30\n",
    "b = 13\n",
    "a >>= b\n",
    "print(a,b)\n",
    "\n",
    "a = 30\n",
    "b = 13\n",
    "a <<= b\n",
    "print(a,b)"
   ]
  },
  {
   "cell_type": "code",
   "execution_count": 8,
   "id": "cf98ade6",
   "metadata": {},
   "outputs": [
    {
     "ename": "SyntaxError",
     "evalue": "invalid syntax (3193820931.py, line 13)",
     "output_type": "error",
     "traceback": [
      "\u001b[1;36m  Input \u001b[1;32mIn [8]\u001b[1;36m\u001b[0m\n\u001b[1;33m    else\u001b[0m\n\u001b[1;37m        ^\u001b[0m\n\u001b[1;31mSyntaxError\u001b[0m\u001b[1;31m:\u001b[0m invalid syntax\n"
     ]
    }
   ],
   "source": [
    "# flow control ----------------\n",
    "# if--------\n",
    "\n",
    "a = \"choclate\"\n",
    "if a == \"choclate\":\n",
    "    print(\"choclate condition is true\")"
   ]
  },
  {
   "cell_type": "code",
   "execution_count": 9,
   "id": "066bdef7",
   "metadata": {},
   "outputs": [
    {
     "name": "stdout",
     "output_type": "stream",
     "text": [
      "condition is choclate\n",
      "He eat Rice\n"
     ]
    }
   ],
   "source": [
    "# flow control ----------------\n",
    "# else---------\n",
    "\n",
    "a = \"choclate\"\n",
    "if a == \"cake\":\n",
    "    print(\"condition is true\")\n",
    "    \n",
    "else\n",
    "    print(\"condition is false\")"
   ]
  },
  {
   "cell_type": "code",
   "execution_count": 10,
   "id": "89ac0aed",
   "metadata": {},
   "outputs": [
    {
     "name": "stdout",
     "output_type": "stream",
     "text": [
      "condition is false\n"
     ]
    }
   ],
   "source": [
    "# flow control ----------------\n",
    "# elif---------\n",
    "\n",
    "a = \"choclatre\"\n",
    "b = \"cake\"\n",
    "if a == \"coke\":\n",
    "    print(\"condition is true\")\n",
    "    \n",
    "elif b == \"burger\":\n",
    "    print(\"condition is true\")\n",
    "else:\n",
    "    print(\"condition is false\")"
   ]
  },
  {
   "cell_type": "code",
   "execution_count": 1,
   "id": "19e73fdd",
   "metadata": {},
   "outputs": [
    {
     "name": "stdout",
     "output_type": "stream",
     "text": [
      "condition is choclate\n",
      "He eat Rice\n"
     ]
    }
   ],
   "source": [
    "# flow control ----------------\n",
    "#Nested if ---------\n",
    "\n",
    "a = \"choclate\"\n",
    "b = \"cake\"\n",
    "c = \"doramon\"\n",
    "if a == \"choclate\":\n",
    "    print(\"condition is choclate\")\n",
    "    if c == \"doramon\":\n",
    "        print(\"He eat Rice\")\n",
    "    else:\n",
    "        print(\"Not Eating\")\n",
    "elif b == \"cake\":\n",
    "    print(\"condition is cake\")\n",
    "else:\n",
    "    print(\"condition is false\")\n",
    "    "
   ]
  },
  {
   "cell_type": "code",
   "execution_count": null,
   "id": "82163d60",
   "metadata": {},
   "outputs": [],
   "source": [
    "# flow control ----------------\n",
    "#while loop ---------\n",
    "\n",
    "i = 1\n",
    "while i<=5:\n",
    "#     print(\"This value 5\")\n",
    "#     i += 1\n",
    "    print(i)\n",
    "    i +=1\n"
   ]
  },
  {
   "cell_type": "code",
   "execution_count": null,
   "id": "a6c7da70",
   "metadata": {},
   "outputs": [],
   "source": [
    "# flow control ----------------\n",
    "#while loop--infinite loop ---\n",
    "\n",
    "# while True:\n",
    "#     print(\"Oky infinite\")\n",
    "\n",
    "\n"
   ]
  },
  {
   "cell_type": "code",
   "execution_count": 9,
   "id": "ca2b48b5",
   "metadata": {},
   "outputs": [
    {
     "name": "stdout",
     "output_type": "stream",
     "text": [
      "1 \n",
      "\n",
      "1 2 \n",
      "\n",
      "1 2 3 \n",
      "\n",
      "1 2 3 4 \n",
      "\n",
      "1 2 3 4 5 \n",
      "\n"
     ]
    }
   ],
   "source": [
    "# flow control ----------------\n",
    "# Nested while loop -------\n",
    "\n",
    "# i = 1\n",
    "# j = 1    \n",
    "# while i<=5:\n",
    "#     while j <=5:\n",
    "#         print(\"i=\",i,\" j=\",j, sep=\"\")\n",
    "#         j+=1\n",
    "#     else:\n",
    "#         print(\"J is end\")\n",
    "#     i+=1\n",
    "#     j = 1\n",
    "\n",
    "# -------\n",
    "\n",
    "# i = 1\n",
    "# while i<=3:\n",
    "#     print( \"i\", i)\n",
    "#     j = 1    \n",
    "#     while j<=i:\n",
    "#         print( \"j\", j)\n",
    "#         j+=1\n",
    "#     i+=1 \n",
    "    \n",
    "#  --------\n",
    "\n",
    "# i = 1\n",
    "# while i<=10:\n",
    "#     print(5,\"*\",i,\"=\",(i*5))\n",
    "#     i +=1\n",
    "# else:\n",
    "#     print(\"END\")\n",
    "    \n",
    "# ---------\n",
    "\n",
    "# namta = int(input(\"আপ_নি কোন ঘরের নামতা চাচ্ছেন = \"))\n",
    "# i = 1\n",
    "# while i<=10:\n",
    "#     #print(namta,\"*\",i,\"=\",(i*namta))\n",
    "#     print(f\"{namta} * {i} = {namta*i}\") #another formate\n",
    "#     i+=1\n",
    "    \n",
    "#---------\n",
    "\n",
    "# i = 1\n",
    "# while i<=10:\n",
    "#     j=1\n",
    "#     while j<=10:\n",
    "#         print(f\"{i} * {j} = {i*j}\")\n",
    "#         j+=1\n",
    "#     else:\n",
    "#         print(\"Start Another Multiplication\")\n",
    "#     i+=1    \n",
    "    \n",
    "#---------\n",
    "\n",
    "i = 1\n",
    "while i<=5:\n",
    "    j = 1\n",
    "    while j<=i:\n",
    "        print(j,end =\" \")\n",
    "        j+=1\n",
    "    i+=1\n",
    "    print(\"\\n\")\n",
    "\n",
    "    "
   ]
  },
  {
   "cell_type": "code",
   "execution_count": 12,
   "id": "9b152d14",
   "metadata": {},
   "outputs": [
    {
     "name": "stdout",
     "output_type": "stream",
     "text": [
      "ForLoop"
     ]
    }
   ],
   "source": [
    "# flow control ----------------\n",
    "# For Loop ------- #tuple,list,set dictionary,string\n",
    "\n",
    "# a = \"ForLoop\"\n",
    "# for i in a:\n",
    "#     print(i,end=\"\")\n"
   ]
  },
  {
   "cell_type": "code",
   "execution_count": 3,
   "id": "4476d862",
   "metadata": {},
   "outputs": [
    {
     "name": "stdout",
     "output_type": "stream",
     "text": [
      "i = 1 j = 1\n",
      "i = 1 j = 2\n",
      "i = 1 j = 3\n",
      "i = 1 j = 4\n",
      "i = 1 j = 5\n",
      "i = 2 j = 1\n",
      "i = 2 j = 2\n",
      "i = 2 j = 3\n",
      "i = 2 j = 4\n",
      "i = 2 j = 5\n",
      "i = 3 j = 1\n",
      "i = 3 j = 2\n",
      "i = 3 j = 3\n",
      "i = 3 j = 4\n",
      "i = 3 j = 5\n",
      "i = 4 j = 1\n",
      "i = 4 j = 2\n",
      "i = 4 j = 3\n",
      "i = 4 j = 4\n",
      "i = 4 j = 5\n",
      "i = 5 j = 1\n",
      "i = 5 j = 2\n",
      "i = 5 j = 3\n",
      "i = 5 j = 4\n",
      "i = 5 j = 5\n"
     ]
    }
   ],
   "source": [
    "# flow control ----------------\n",
    "# For Loop -------\n",
    "\n",
    "#--------- rangLoop funtion\n",
    "\n",
    "# for i in range(1,11,2):        #start,end,step\n",
    "#     print(i)\n",
    "\n",
    "#--------- Nested loop\n",
    "\n",
    "# for i in range (1,6):\n",
    "#     for j in range (1,6):\n",
    "#         print(\"i =\",i,\"j =\",j,sep=\" \")\n",
    "        \n",
    "#--------- nested loop else block\n",
    "\n",
    "# for i in range (1,6):\n",
    "#     for j in range (1,6):\n",
    "#         print(\"i =\",i,\" j =\",j,sep=\" \")       \n",
    "# #         print('%d * %d = %d' % (i, j, i*j))\n",
    "#     else:\n",
    "#         print(\"\\n Start Another loop \\n\")\n"
   ]
  },
  {
   "cell_type": "code",
   "execution_count": 14,
   "id": "3d7ed692",
   "metadata": {},
   "outputs": [
    {
     "name": "stdout",
     "output_type": "stream",
     "text": [
      "1\n",
      "2\n"
     ]
    },
    {
     "ename": "KeyboardInterrupt",
     "evalue": "",
     "output_type": "error",
     "traceback": [
      "\u001b[1;31m---------------------------------------------------------------------------\u001b[0m",
      "\u001b[1;31mKeyboardInterrupt\u001b[0m                         Traceback (most recent call last)",
      "Input \u001b[1;32mIn [14]\u001b[0m, in \u001b[0;36m<cell line: 10>\u001b[1;34m()\u001b[0m\n\u001b[0;32m     10\u001b[0m \u001b[38;5;28;01mwhile\u001b[39;00m i\u001b[38;5;241m<\u001b[39m\u001b[38;5;241m=\u001b[39m\u001b[38;5;241m6\u001b[39m:\n\u001b[0;32m     11\u001b[0m     \u001b[38;5;28;01mif\u001b[39;00m i\u001b[38;5;241m==\u001b[39m\u001b[38;5;241m3\u001b[39m:\n\u001b[1;32m---> 12\u001b[0m         \u001b[38;5;28;01mcontinue\u001b[39;00m\n\u001b[0;32m     13\u001b[0m     \u001b[38;5;28mprint\u001b[39m(i)\n\u001b[0;32m     14\u001b[0m     i\u001b[38;5;241m+\u001b[39m\u001b[38;5;241m=\u001b[39m\u001b[38;5;241m1\u001b[39m\n",
      "\u001b[1;31mKeyboardInterrupt\u001b[0m: "
     ]
    }
   ],
   "source": [
    "# flow control ----------------\n",
    "# for,while break - continue - pass \n",
    "\n",
    "# for i in range (1,6):\n",
    "#     if i == 3:\n",
    "#         break\n",
    "#     print(i)\n",
    "\n",
    "# i = 1\n",
    "# while i<=6:\n",
    "#     if i==3:\n",
    "#         continue\n",
    "#     print(i)\n",
    "#     i+=1\n"
   ]
  },
  {
   "cell_type": "code",
   "execution_count": 31,
   "id": "0a598b64",
   "metadata": {},
   "outputs": [
    {
     "name": "stdout",
     "output_type": "stream",
     "text": [
      "forhadul islam\n",
      "['f', 'o', 'r', 'h', 'a', 'd', 'u', 'l', ' ', 'i', 's', 'l', 'a', 'm']\n"
     ]
    }
   ],
   "source": [
    "# Data Type ---------------------------\n",
    "\n",
    "# None ----------\n",
    "\n",
    "# a = 1\n",
    "# # a = None\n",
    "# if a == None:\n",
    "#     print(\"This is none\")\n",
    "# else:\n",
    "#     print(\"This is Not None\")\n",
    "# print(type(a))\n",
    "\n",
    "# Boolean ----------\n",
    "\n",
    "# a = 10>20\n",
    "# if a ==True:\n",
    "#     print(\"This Boolean True\")\n",
    "# else:\n",
    "#     print(\"This Boolean False\")\n",
    "    \n",
    "# Int float complex --------\n",
    "            \n",
    "# a = 4 \n",
    "# print(a,type(a))\n",
    "# b = 10.3054\n",
    "# print(b,type(b))\n",
    "# print(\"{:.2f}\".format(b))\n",
    "\n",
    "# real & imaginery -------\n",
    "\n",
    "# c = 10+12j\n",
    "# print(c,type(c))\n",
    "# print(20+c)\n",
    "\n",
    "# String -------\n",
    "\n",
    "# c = \"pythonString\"\n",
    "\n",
    "# print(c[3])\n",
    "# print(c[:6])\n",
    "# print(c[6:8])\n",
    "# c = c[:3]+\"m\"+c[4:]    #chnage \n",
    "# c = c[:3]+\"\"+c[4:]    #delete \n",
    "# print(c)\n",
    "\n",
    "# length = 0\n",
    "# for i in c:\n",
    "#     print(i,end=\"\")\n",
    "#     length +=1\n",
    "# print()\n",
    "# print(length)\n",
    "\n",
    "# print(len(c))            #length sort system\n",
    "\n",
    "# DataType-String-format---------------------------\n",
    "\n",
    "# a = \"Stringformate\"\n",
    "# b = 12\n",
    "# c = 12.5032\n",
    "# # d = a + \" {} {:.2f}\".format(b,c)\n",
    "# d = \"{0:^20} {1} {0}   Shakil\".format(a,\"TestString\")\n",
    "# print(d)\n",
    "\n",
    "# String method --------\n",
    "\n",
    "# a = [\"shakil\",\"saikat\",\"sihan\",\"suvo\",\"tom\",\"jerry\",222,334,666,]\n",
    "# a[2:5] = [\"oreb\",\"hello\",\"world\"]\n",
    "# print(a)\n",
    "\n",
    "# a = [\"shakil\",\"saikat\",\"sihan\",\"suvo\",\"tom\",[\"hei\",\"hoi\"],\"jerry\",222,334,666]\n",
    "# b = a[5].copy()\n",
    "# print(b)\n",
    "# for i in a:\n",
    "#     if type(i) is list: \n",
    "#         for j in i:\n",
    "#             print(j)\n",
    "#     else:\n",
    "#         print(i) \n",
    "\n",
    "# ----------\n",
    "\n",
    "# a = [\"shakil\",\"saikat\",\"sihan\",\"suvo\",\"tom\",[\"hei\",\"hoi\"],\"jerry\",222,334,666]\n",
    "# b=[]\n",
    "# for i in a:\n",
    "#     if type(i) is list: \n",
    "#         b = i.copy()\n",
    "#         print(b*3)            \n",
    "        \n",
    "        \n",
    "# #         for j in i:\n",
    "# #             b = i.copy()\n",
    "# #             print(b)            \n",
    "#     else:\n",
    "#         print(i)\n",
    "\n",
    "# ---------\n",
    "\n",
    "# b,c=[\"lkfnfnb\",\"Fgfgg\"],[3,344,3343]\n",
    "# b.sort()\n",
    "# print(b)\n",
    "# --------\n",
    "\n",
    "# text = 'Python'\n",
    "# convert string to list\n",
    "# text_list = list(text)\n",
    "# print(text_list)\n",
    "# check type of text_list\n",
    "# print(type(text_list))\n",
    "\n",
    "# -------\n",
    "        \n",
    "# a = (\"name\",\"email\",\"phone\")\n",
    "# b = dict.fromkeys(a)\n",
    "\n",
    "# for i in b:\n",
    "#     if i == \"name\":\n",
    "#         b[\"name\"] = \"Shakil\"\n",
    "        \n",
    "#     elif i == \"email\":\n",
    "#         b[\"email\"] = \"shakilcsediu111@gmail.com\"\n",
    "#     elif i == \"phone\":\n",
    "#         b[\"phone\"] = \"01705431711\"\n",
    "# print(a,\"\\n\",b)\n",
    "\n",
    "\n",
    "# def Ammu():\n",
    "#     print(\"ji bolen\")\n",
    "#     return \"Apple niya ayy bazar thek\"\n",
    "# print(Ammu())\n",
    "    \n",
    "# b = ['Mango','Apple','Oranges',['pavel','rubel','liga'],\n",
    "#      'Grapes',1, 2,3,4,5.67]\n",
    "# for i in b:\n",
    "#     if type (i) is list:\n",
    "#         for j in i:\n",
    "#             print([j],end=\"\\n\")\n",
    "#     else:\n",
    "#         print(i)\n",
    "        \n",
    "    \n",
    "# a = \"forhadul islam\"\n",
    "# name_seq = []\n",
    "# for b in a:\n",
    "#     print(b,end=(\"\"))\n",
    "#     name_seq.append(b)\n",
    "# print()\n",
    "# print(name_seq)\n",
    "\n"
   ]
  },
  {
   "cell_type": "code",
   "execution_count": 35,
   "id": "59cc2925",
   "metadata": {},
   "outputs": [
    {
     "name": "stdout",
     "output_type": "stream",
     "text": [
      "28 days, 1:25:41.661669\n",
      "\n"
     ]
    }
   ],
   "source": [
    "# Python Module --------------------\n",
    "# Math Module -----------------\n",
    "#Date TIme ----------------\n",
    "\n",
    "from datetime import date,time,datetime\n",
    "birthday = datetime(2022,8,23)\n",
    "print(birthday - datetime.today())\n",
    "print()\n",
    "\n",
    "# print(time(12,13,15,30))\n",
    "# print(datetime.today())\n",
    "\n",
    "\n",
    " \n",
    "\n",
    "\n",
    "\n",
    "\n",
    "\n",
    "\n"
   ]
  },
  {
   "cell_type": "code",
   "execution_count": null,
   "id": "4f2d6544",
   "metadata": {},
   "outputs": [],
   "source": []
  }
 ],
 "metadata": {
  "kernelspec": {
   "display_name": "Python 3 (ipykernel)",
   "language": "python",
   "name": "python3"
  },
  "language_info": {
   "codemirror_mode": {
    "name": "ipython",
    "version": 3
   },
   "file_extension": ".py",
   "mimetype": "text/x-python",
   "name": "python",
   "nbconvert_exporter": "python",
   "pygments_lexer": "ipython3",
   "version": "3.9.12"
  }
 },
 "nbformat": 4,
 "nbformat_minor": 5
}
