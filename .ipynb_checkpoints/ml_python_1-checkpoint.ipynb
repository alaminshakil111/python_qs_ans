{
 "cells": [
  {
   "cell_type": "markdown",
   "id": "c64ed6bb",
   "metadata": {},
   "source": [
    "### 1 . Write a program that swaps the values of two variables."
   ]
  },
  {
   "cell_type": "code",
   "execution_count": null,
   "id": "14599689",
   "metadata": {},
   "outputs": [],
   "source": [
    "a = 2\n",
    "b = 3\n",
    "temp = a \n",
    "a = b \n",
    "b = temp\n",
    "print (\"a =\", a)\n",
    "print (\"b =\", b)\n"
   ]
  },
  {
   "cell_type": "markdown",
   "id": "5add103b",
   "metadata": {},
   "source": [
    "### 2. Write a program that calculates the area of a rectangle given its length and width."
   ]
  },
  {
   "cell_type": "code",
   "execution_count": null,
   "id": "d0b81f08",
   "metadata": {},
   "outputs": [],
   "source": [
    "length = 4\n",
    "width = 6\n",
    "\n",
    "area = length * width\n",
    "\n",
    "print(\"The area of the rectangle is:\", area)"
   ]
  },
  {
   "cell_type": "markdown",
   "id": "ceac633a",
   "metadata": {},
   "source": [
    "### 3. Write a program that converts temperature from Fahrenheit to Celsius."
   ]
  },
  {
   "cell_type": "code",
   "execution_count": 4,
   "id": "def9b846",
   "metadata": {},
   "outputs": [
    {
     "name": "stdout",
     "output_type": "stream",
     "text": [
      "Temperature in Celsius: 24 ° C\n"
     ]
    }
   ],
   "source": [
    "fahrenheit = 75\n",
    "\n",
    "celsius = (fahrenheit - 32) * 5/9\n",
    "\n",
    "print(\"Temperature in Celsius:\", round(celsius,),\"\\N{DEGREE SIGN}\",\"C\")"
   ]
  },
  {
   "cell_type": "markdown",
   "id": "ccadb861",
   "metadata": {},
   "source": [
    "### 4. Write a program that calculates the volume of a sphere given its radius."
   ]
  },
  {
   "cell_type": "code",
   "execution_count": 2,
   "id": "e0c06088",
   "metadata": {},
   "outputs": [
    {
     "name": "stdout",
     "output_type": "stream",
     "text": [
      "The volume of the sphere is: 905.0\n"
     ]
    }
   ],
   "source": [
    "import math\n",
    "\n",
    "radius = 6\n",
    "\n",
    "volume = (4/3) * math.pi * (radius ** 3)\n",
    "\n",
    "print(\"The volume of the sphere is:\", round(volume,0))"
   ]
  },
  {
   "cell_type": "markdown",
   "id": "16287c1a",
   "metadata": {},
   "source": [
    "### 5. Write a program that finds the average of three numbers."
   ]
  },
  {
   "cell_type": "code",
   "execution_count": 6,
   "id": "16808c4f",
   "metadata": {},
   "outputs": [
    {
     "name": "stdout",
     "output_type": "stream",
     "text": [
      "The average of the numbers is: 3.0\n"
     ]
    }
   ],
   "source": [
    "def c_average(num):\n",
    "    if len(num) == 0:\n",
    "        return 0\n",
    "    total = sum(num)\n",
    "    average = sum(num) / len(num)\n",
    "    return average\n",
    "\n",
    "num = [2,3,4]\n",
    "result = c_average(num)\n",
    "print(\"The average of the numbers is:\", result)"
   ]
  },
  {
   "cell_type": "markdown",
   "id": "ad045907",
   "metadata": {},
   "source": [
    "### 6. Write a program that determines if a number is even or odd."
   ]
  },
  {
   "cell_type": "code",
   "execution_count": 5,
   "id": "62236964",
   "metadata": {},
   "outputs": [
    {
     "name": "stdout",
     "output_type": "stream",
     "text": [
      "Enter a number: 5\n",
      "The number is odd.\n"
     ]
    }
   ],
   "source": [
    "number = int(input(\"Enter a number: \"))\n",
    "\n",
    "if number % 2 == 0:\n",
    "    print(\"The number is even.\")\n",
    "else:\n",
    "    print(\"The number is odd.\")"
   ]
  },
  {
   "cell_type": "markdown",
   "id": "edf574c5",
   "metadata": {},
   "source": [
    "### 7. Write a program that finds the maximum of three number"
   ]
  },
  {
   "cell_type": "code",
   "execution_count": 1,
   "id": "0333f43c",
   "metadata": {},
   "outputs": [
    {
     "name": "stdout",
     "output_type": "stream",
     "text": [
      "Maximum Number Is = 8\n"
     ]
    }
   ],
   "source": [
    "maximum = [2,3,8]\n",
    "result = max(maximum)\n",
    "print(\"Maximum Number Is =\", result)"
   ]
  },
  {
   "cell_type": "markdown",
   "id": "b7896090",
   "metadata": {},
   "source": [
    "### 8. Write a program that determines if a year is a leap year or not."
   ]
  },
  {
   "cell_type": "code",
   "execution_count": 4,
   "id": "5859609b",
   "metadata": {},
   "outputs": [
    {
     "name": "stdout",
     "output_type": "stream",
     "text": [
      "Enter the year: 2024\n",
      "This 2024 year is leap year\n"
     ]
    }
   ],
   "source": [
    "year = int(input(\"Enter the year: \"))\n",
    "if year % 400 == 0 or year % 4 == 0 :\n",
    "    print(\"This\", year, \"year is leap year\")\n",
    "else:\n",
    "    print(\"This\", year, \"year is not leap year\")\n",
    "#-------------\n",
    "\n",
    "# def is_leap_year(year):\n",
    "#     if year % 400 == 0 or year % 4 == 0 and year & 100!= 0 :\n",
    "#         return True \n",
    "#     else:\n",
    "#         return False\n",
    "\n",
    "# year_to_check = int(input(\"Enter the year: \"))\n",
    "# if is_leap_year(year_to_check):\n",
    "#     print(\"This\", year, \" year is leap year\")\n",
    "# else:\n",
    "#     print(\"This\", year, \" year is not leap year\")\n"
   ]
  },
  {
   "cell_type": "markdown",
   "id": "354d2338",
   "metadata": {},
   "source": [
    "### 9. Write a program that determines if a number is positive, negative, or zero.\n"
   ]
  },
  {
   "cell_type": "code",
   "execution_count": 6,
   "id": "2200a652",
   "metadata": {},
   "outputs": [
    {
     "name": "stdout",
     "output_type": "stream",
     "text": [
      "Enter the Number:-3\n",
      "Number is Negative\n"
     ]
    }
   ],
   "source": [
    "num = int(input(\"Enter the Number:\"))\n",
    "if num > 0:\n",
    "    print(\"Number is Positive\")\n",
    "elif num == 0:\n",
    "    print(\"Number is Zero\")\n",
    "else:\n",
    "    print(\"Number is Negative\")"
   ]
  },
  {
   "cell_type": "markdown",
   "id": "24837296",
   "metadata": {},
   "source": [
    "### 10. Write a program that calculates the grade based on a given percentage.\n"
   ]
  },
  {
   "cell_type": "code",
   "execution_count": 9,
   "id": "c2c41e6b",
   "metadata": {},
   "outputs": [
    {
     "name": "stdout",
     "output_type": "stream",
     "text": [
      "Enter the Number:20\n",
      "Fail in the Exam & The Number is 20\n"
     ]
    }
   ],
   "source": [
    "num = int(input(\"Enter the Number:\"))\n",
    "\n",
    "if num >= 80 and num <= 100:\n",
    "    print(\"A+\")\n",
    "elif num >= 70 and num<=79:\n",
    "    print(\"A\")\n",
    "elif num >= 60 and num<=69:\n",
    "    print(\"A-\")\n",
    "elif num >= 50 and num<=59:\n",
    "    print(\"B\")\n",
    "elif num >= 40 and num <=49:\n",
    "    print(\"C\")\n",
    "elif num >=33 and num <=39:\n",
    "    print (\"D\")\n",
    "else:\n",
    "    print (\"Fail in the Exam & The Number is\", num)"
   ]
  },
  {
   "cell_type": "markdown",
   "id": "f2bde9f2",
   "metadata": {},
   "source": [
    "### 11. Write a program that prints the first `n` natural numbers"
   ]
  },
  {
   "cell_type": "code",
   "execution_count": 13,
   "id": "d70db3ea",
   "metadata": {},
   "outputs": [
    {
     "name": "stdout",
     "output_type": "stream",
     "text": [
      "Enter the Number:6\n",
      "1 2 3 4 5 6 "
     ]
    }
   ],
   "source": [
    "N = int(input(\"Enter the Number:\"))\n",
    "for i in range(1,N+1):\n",
    "    print(i,end=\" \")"
   ]
  },
  {
   "cell_type": "markdown",
   "id": "131322e2",
   "metadata": {},
   "source": [
    "### 12. Write a program that calculates the factorial of a number."
   ]
  },
  {
   "cell_type": "code",
   "execution_count": 15,
   "id": "37ab5870",
   "metadata": {},
   "outputs": [
    {
     "name": "stdout",
     "output_type": "stream",
     "text": [
      "Enter a number: 3\n",
      "The factorial of 3 is 6\n"
     ]
    }
   ],
   "source": [
    "num = int(input(\"Enter a number: \"))\n",
    "\n",
    "fact = 1\n",
    "\n",
    "# check if the number is negative, positive or zero\n",
    "if num < 0:\n",
    "   print(\"Sorry, factorial does not exist for negative numbers\")\n",
    "elif num == 0:\n",
    "   print(\"The factorial of 0 is 1\")\n",
    "else:\n",
    "   for i in range(1,num + 1):\n",
    "       fact = fact*i\n",
    "   print(\"The factorial of\",num,\"is\",fact)"
   ]
  },
  {
   "cell_type": "markdown",
   "id": "97ed77a0",
   "metadata": {},
   "source": [
    "### 13. Write a program that generates a Fibonacci sequence of length `n`"
   ]
  },
  {
   "cell_type": "code",
   "execution_count": 18,
   "id": "b3913673",
   "metadata": {},
   "outputs": [
    {
     "name": "stdout",
     "output_type": "stream",
     "text": [
      "How many terms? 6\n",
      "Fibonacci sequence:\n",
      "0 1 1 2 3 5 "
     ]
    }
   ],
   "source": [
    "nterms = int(input(\"How many terms? \"))\n",
    "\n",
    "n1, n2 = 0, 1\n",
    "count = 0\n",
    "\n",
    "if nterms <= 0:\n",
    "   print(\"Please enter a positive integer\")\n",
    "elif nterms == 1:\n",
    "   print(\"Fibonacci sequence upto\",nterms,\":\")\n",
    "   print(n1)\n",
    "\n",
    "else:\n",
    "   print(\"Fibonacci sequence:\")\n",
    "   while count < nterms:\n",
    "       print(n1,end=\" \")\n",
    "       nth = n1 + n2\n",
    "\n",
    "       n1 = n2\n",
    "       n2 = nth\n",
    "       count += 1"
   ]
  },
  {
   "cell_type": "markdown",
   "id": "2d6addfd",
   "metadata": {},
   "source": [
    "### 14. Write a program that checks if a given number is prime or not."
   ]
  },
  {
   "cell_type": "code",
   "execution_count": 14,
   "id": "946a49a5",
   "metadata": {},
   "outputs": [
    {
     "name": "stdout",
     "output_type": "stream",
     "text": [
      "Enter the number whice want you to check: 7\n",
      "7 is a prime number\n"
     ]
    }
   ],
   "source": [
    "num = int(input(\"Enter the number whice want you to check: \"))\n",
    "\n",
    "# if num <= 0:\n",
    "#     print(\"Number does not exist for prime number. It should be greater then 1\")\n",
    "#     for i in range(2,int(num/2)+1):\n",
    "#         if (num % i == 0):\n",
    "#             print(num, \"is not a Prime Number\")\n",
    "#             break\n",
    "#     else:\n",
    "#         print(num,\"is a Prime number\")\n",
    "# else:\n",
    "#         print(num,\"is not a Prime number\")\n",
    "\n",
    "if num == 1:\n",
    "    print(num, \"is not a prime number\")\n",
    "elif num > 1:\n",
    "   # check for factors\n",
    "   for i in range(2,num):\n",
    "       if (num % i) == 0:\n",
    "           print(num,\"is not a prime number\")\n",
    "           print(i,\"times\",num//i,\"is\",num)\n",
    "           break\n",
    "   else:\n",
    "       print(num,\"is a prime number\")\n",
    "       \n",
    "# if input number is less than\n",
    "# or equal to 1, it is not prime\n",
    "else:\n",
    "   print(num,\"is not a prime number\")"
   ]
  },
  {
   "cell_type": "markdown",
   "id": "2527f400",
   "metadata": {},
   "source": [
    "### 15. Write a program that prints the multiplication table of a given number . ?"
   ]
  },
  {
   "cell_type": "code",
   "execution_count": 42,
   "id": "23aa4eec",
   "metadata": {},
   "outputs": [
    {
     "name": "stdout",
     "output_type": "stream",
     "text": [
      "Enter the number whice want you to check: 12\n",
      "12 x 1 = 12\n",
      "12 x 2 = 24\n",
      "12 x 3 = 36\n",
      "12 x 4 = 48\n",
      "12 x 5 = 60\n",
      "12 x 6 = 72\n",
      "12 x 7 = 84\n",
      "12 x 8 = 96\n",
      "12 x 9 = 108\n",
      "12 x 10 = 120\n"
     ]
    }
   ],
   "source": [
    "num = int(input(\"Enter the number whice want you to check: \"))\n",
    "\n",
    "for i in range(1,num-1):\n",
    "    print(num, \"x\", i, \"=\", num*i)"
   ]
  },
  {
   "cell_type": "markdown",
   "id": "42406b28",
   "metadata": {},
   "source": [
    "### 16. Write a program that finds the sum of all even numbers between 1 and `n` ? "
   ]
  },
  {
   "cell_type": "code",
   "execution_count": null,
   "id": "821f9b2c",
   "metadata": {},
   "outputs": [],
   "source": [
    "num = int(input(\"Enter the number whice want you to check: \"))\n",
    "\n",
    "total = 0\n",
    "for i in range(1,num+1):\n",
    "    if i % 2 == 0:\n",
    "        print(i)\n",
    "        total = total+i\n",
    "        \n",
    "print(total)\n",
    "        "
   ]
  },
  {
   "cell_type": "code",
   "execution_count": null,
   "id": "4d22b015",
   "metadata": {},
   "outputs": [],
   "source": []
  },
  {
   "cell_type": "code",
   "execution_count": null,
   "id": "4e80442d",
   "metadata": {},
   "outputs": [],
   "source": []
  },
  {
   "cell_type": "code",
   "execution_count": null,
   "id": "b2e112d5",
   "metadata": {},
   "outputs": [],
   "source": []
  },
  {
   "cell_type": "code",
   "execution_count": null,
   "id": "8f9980cc",
   "metadata": {},
   "outputs": [],
   "source": []
  },
  {
   "cell_type": "code",
   "execution_count": null,
   "id": "56a79024",
   "metadata": {},
   "outputs": [],
   "source": []
  },
  {
   "cell_type": "code",
   "execution_count": null,
   "id": "a4061d3b",
   "metadata": {},
   "outputs": [],
   "source": []
  },
  {
   "cell_type": "code",
   "execution_count": null,
   "id": "77c13a2c",
   "metadata": {},
   "outputs": [],
   "source": []
  },
  {
   "cell_type": "code",
   "execution_count": null,
   "id": "08f870b4",
   "metadata": {},
   "outputs": [],
   "source": []
  }
 ],
 "metadata": {
  "kernelspec": {
   "display_name": "Python 3 (ipykernel)",
   "language": "python",
   "name": "python3"
  },
  "language_info": {
   "codemirror_mode": {
    "name": "ipython",
    "version": 3
   },
   "file_extension": ".py",
   "mimetype": "text/x-python",
   "name": "python",
   "nbconvert_exporter": "python",
   "pygments_lexer": "ipython3",
   "version": "3.9.12"
  }
 },
 "nbformat": 4,
 "nbformat_minor": 5
}
